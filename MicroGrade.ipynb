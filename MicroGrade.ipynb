{
 "cells": [
  {
   "cell_type": "markdown",
   "metadata": {},
   "source": [
    "# MicroGrade from Scratch"
   ]
  },
  {
   "cell_type": "markdown",
   "metadata": {},
   "source": [
    " We learned that PyTorch Engine is doing gradients automatic<br>\n",
    " This helped us build very large graph and stop worrying about gradients"
   ]
  },
  {
   "cell_type": "code",
   "execution_count": 18,
   "metadata": {},
   "outputs": [
    {
     "data": {
      "text/plain": [
       "15"
      ]
     },
     "execution_count": 18,
     "metadata": {},
     "output_type": "execute_result"
    }
   ],
   "source": [
    "def f(a,b):\n",
    "  c=a*b\n",
    "  return c\n",
    "f(5,3)"
   ]
  },
  {
   "attachments": {
    "image.png": {
     "image/png": "[encoded data removed]"
    }
   },
   "cell_type": "markdown",
   "metadata": {},
   "source": [
    "<strong>this graph is represent this simple fanction and can represent any function in tha same way</strong> <br><br><br>\n",
    "![image.png](attachment:image.png)"
   ]
  },
  {
   "cell_type": "markdown",
   "metadata": {},
   "source": [
    "i will try to bulid class to allow represent any funtion by graph to easy to make backpropagation on it "
   ]
  },
  {
   "cell_type": "code",
   "execution_count": 50,
   "metadata": {},
   "outputs": [],
   "source": [
    "class Value():\n",
    "  def __init__(self, data):\n",
    "    self.data=data\n",
    "  def __repr__(self) :\n",
    "    return f\"value is {self.data}\"\n",
    "  \n",
    " "
   ]
  },
  {
   "cell_type": "code",
   "execution_count": 51,
   "metadata": {},
   "outputs": [
    {
     "name": "stdout",
     "output_type": "stream",
     "text": [
      "value is 5\n",
      "value is 6\n"
     ]
    }
   ],
   "source": [
    "a=Value(5)\n",
    "print(a)\n",
    "b=Value(6)\n",
    "print(b)"
   ]
  },
  {
   "cell_type": "code",
   "execution_count": 55,
   "metadata": {},
   "outputs": [
    {
     "name": "stdout",
     "output_type": "stream",
     "text": [
      "can't make add between object befor define it in class\n"
     ]
    }
   ],
   "source": [
    "# if try to add them \n",
    "try:\n",
    "     a+b\n",
    "except:\n",
    "     print(\"can't make add between object befor define it in class\")\n"
   ]
  },
  {
   "cell_type": "markdown",
   "metadata": {},
   "source": [
    "can't make add between object befor define it in class  "
   ]
  },
  {
   "cell_type": "code",
   "execution_count": 56,
   "metadata": {},
   "outputs": [],
   "source": [
    "# edit on class to add add operation \n",
    "class Value():\n",
    "  def __init__(self, data):\n",
    "    self.data=data\n",
    "  def __repr__(self) :\n",
    "    return f\"value is {self.data}\"\n",
    "  def __add__(self, other):\n",
    "    return Value(self.data+other.data)"
   ]
  },
  {
   "cell_type": "markdown",
   "metadata": {},
   "source": []
  },
  {
   "cell_type": "code",
   "execution_count": 58,
   "metadata": {},
   "outputs": [
    {
     "name": "stdout",
     "output_type": "stream",
     "text": [
      "value is 5\n",
      "value is 6\n",
      "value is 11\n"
     ]
    }
   ],
   "source": [
    "a=Value(5)\n",
    "print(a)\n",
    "b=Value(6)\n",
    "print(b)\n",
    "c=a+b\n",
    "print(c)\n"
   ]
  },
  {
   "cell_type": "markdown",
   "metadata": {},
   "source": [
    "i will try to know child and operation make on child to get each vale"
   ]
  },
  {
   "cell_type": "code",
   "execution_count": 64,
   "metadata": {},
   "outputs": [],
   "source": [
    "# edit to class to allow to tracing child and operation that give new value \n",
    "class Value():\n",
    "  def __init__(self, data,child=set(),operation=None):\n",
    "    self.data=data # data in each variable\n",
    "    self.child=child # set of child varable that give this value\n",
    "    self.operation=operation# set of operation done on chile to get value\n",
    "  def __repr__(self) :\n",
    "    return f\"value is {self.data}\"\n",
    "  def __add__(self, other):\n",
    "    return Value(self.data+other.data,child=set([self, other]),operation=\"+\")"
   ]
  },
  {
   "cell_type": "code",
   "execution_count": 69,
   "metadata": {},
   "outputs": [
    {
     "name": "stdout",
     "output_type": "stream",
     "text": [
      "value is 5\n",
      "value is 6\n",
      "value is 11\n",
      "child of c is {value is 5, value is 6} and make operation + on this value\n"
     ]
    }
   ],
   "source": [
    "a=Value(5)\n",
    "print(a)\n",
    "b=Value(6)\n",
    "print(b)\n",
    "c=a+b\n",
    "print(c)\n",
    "print(f\"child of c is {c.child} and make operation {c.operation} on this value\")"
   ]
  },
  {
   "cell_type": "code",
   "execution_count": 71,
   "metadata": {},
   "outputs": [
    {
     "name": "stdout",
     "output_type": "stream",
     "text": [
      "value is 6\n",
      "child of c is {value is 5, value is 6} and make operation + on this value\n"
     ]
    }
   ],
   "source": [
    "d=Value(6)\n",
    "g=c+d\n",
    "print(d)\n",
    "print(f\"child of c is {c.child} and make operation {c.operation} on this value\")\n"
   ]
  },
  {
   "cell_type": "code",
   "execution_count": 73,
   "metadata": {},
   "outputs": [
    {
     "name": "stdout",
     "output_type": "stream",
     "text": [
      "can't make multi between object befor define it in class\n"
     ]
    }
   ],
   "source": [
    "# if try to multi them \n",
    "try:\n",
    "     a*b\n",
    "except:\n",
    "     print(\"can't make multi between object befor define it in class\")"
   ]
  },
  {
   "cell_type": "code",
   "execution_count": 96,
   "metadata": {},
   "outputs": [],
   "source": [
    "# edit to class to define multi and devied\n",
    "class Value():\n",
    "  def __init__(self, data,child=set(),operation=None,label=\"\"):\n",
    "    self.data=data # data in each variable\n",
    "    self.child=child # set of child varable that give this value\n",
    "    self.operation=operation# set of operation done on chile to get value\n",
    "    self.label=label\n",
    "  def __repr__(self) :\n",
    "    return f\"{self.label} is {self.data}\"\n",
    "  def __add__(self, other):\n",
    "    return Value(self.data+other.data,child=set([self, other]),operation=\"+\",label=\"\")\n",
    "  def __sub__(self, other):\n",
    "    return Value(self.data-other.data,child=set([self, other]),operation=\"-\",label=\"\")\n",
    "  def __mul__(self, other):\n",
    "    return Value(self.data*other.data,child=set([self, other]),operation=\"*\",label=\"\")\n",
    " \n"
   ]
  },
  {
   "cell_type": "code",
   "execution_count": 101,
   "metadata": {},
   "outputs": [
    {
     "data": {
      "text/plain": [
       "c is 50"
      ]
     },
     "execution_count": 101,
     "metadata": {},
     "output_type": "execute_result"
    }
   ],
   "source": [
    "#simple function \n",
    "def f(x,y,z):\n",
    "  return (x+y)*z\n",
    "x=Value(5);x.label=\"x\"\n",
    "y=Value(5);y.label=\"y\"\n",
    "z=Value(5);z.label=\"z\"\n",
    "c=f(x,y,z);c.label=\"c\"\n",
    "c"
   ]
  },
  {
   "cell_type": "markdown",
   "metadata": {},
   "source": [
    "<strong>what's derivative:</strong> <br>\n",
    "The derivative of a function describes the function's instantaneous rate of change at a certain point. <br>\n",
    "Another common interpretation is that the derivative gives us the slope of the line tangent to the function's graph at that point.\n"
   ]
  },
  {
   "cell_type": "code",
   "execution_count": null,
   "metadata": {},
   "outputs": [],
   "source": []
  },
  {
   "attachments": {
    "image.png": {
     "image/png": "[encoded data removed]"
    }
   },
   "cell_type": "markdown",
   "metadata": {},
   "source": [
    "<strong>let's get gradient of it equation manualy</strong><br><br><br>\n",
    "![image.png](attachment:image.png)"
   ]
  },
  {
   "cell_type": "markdown",
   "metadata": {},
   "source": [
    "\n",
    "one  way to compute derivative <br>\n",
    "**c= z* (x+y)* <br>\n",
    "dc/dx=??<br>\n",
    "dc/dx=dc/d(x+y) * d(x+y)/dx   # chain rule <br>\n",
    "dc/d(x+y)=z<br>\n",
    "d(x+y)/dx=1<br>\n",
    "<br>\n",
    "*dc/dx= z * 1 = z* <br>"
   ]
  },
  {
   "cell_type": "code",
   "execution_count": 119,
   "metadata": {},
   "outputs": [
    {
     "ename": "AttributeError",
     "evalue": "'float' object has no attribute 'data'",
     "output_type": "error",
     "traceback": [
      "\u001b[1;31m---------------------------------------------------------------------------\u001b[0m",
      "\u001b[1;31mAttributeError\u001b[0m                            Traceback (most recent call last)",
      "\u001b[1;32mC:\\conda_tmp\\ipykernel_33648\\3390866073.py\u001b[0m in \u001b[0;36m<module>\u001b[1;34m\u001b[0m\n\u001b[0;32m     15\u001b[0m \u001b[0mz2\u001b[0m\u001b[1;33m=\u001b[0m\u001b[0mValue\u001b[0m\u001b[1;33m(\u001b[0m\u001b[1;36m5\u001b[0m\u001b[1;33m)\u001b[0m\u001b[1;33m;\u001b[0m\u001b[0mz2\u001b[0m\u001b[1;33m.\u001b[0m\u001b[0mlabel\u001b[0m\u001b[1;33m=\u001b[0m\u001b[1;34m\"z2\"\u001b[0m\u001b[1;33m\u001b[0m\u001b[1;33m\u001b[0m\u001b[0m\n\u001b[0;32m     16\u001b[0m \u001b[0mc2\u001b[0m\u001b[1;33m=\u001b[0m\u001b[0mf\u001b[0m\u001b[1;33m(\u001b[0m\u001b[0mx2\u001b[0m\u001b[1;33m,\u001b[0m\u001b[0my2\u001b[0m\u001b[1;33m,\u001b[0m\u001b[0mz2\u001b[0m\u001b[1;33m)\u001b[0m\u001b[1;33m;\u001b[0m\u001b[0mc2\u001b[0m\u001b[1;33m.\u001b[0m\u001b[0mlabel\u001b[0m\u001b[1;33m=\u001b[0m\u001b[1;34m\"c2\"\u001b[0m\u001b[1;33m\u001b[0m\u001b[1;33m\u001b[0m\u001b[0m\n\u001b[1;32m---> 17\u001b[1;33m \u001b[0mderivative\u001b[0m\u001b[1;33m=\u001b[0m\u001b[1;33m(\u001b[0m\u001b[0mc2\u001b[0m\u001b[1;33m-\u001b[0m\u001b[0mc\u001b[0m\u001b[1;33m)\u001b[0m\u001b[1;33m*\u001b[0m\u001b[1;33m(\u001b[0m\u001b[1;36m1\u001b[0m\u001b[1;33m/\u001b[0m\u001b[0mh\u001b[0m\u001b[1;33m)\u001b[0m\u001b[1;33m\u001b[0m\u001b[1;33m\u001b[0m\u001b[0m\n\u001b[0m\u001b[0;32m     18\u001b[0m \u001b[0mprint\u001b[0m\u001b[1;33m(\u001b[0m\u001b[0mderivative\u001b[0m\u001b[1;33m)\u001b[0m\u001b[1;33m\u001b[0m\u001b[1;33m\u001b[0m\u001b[0m\n",
      "\u001b[1;32mC:\\conda_tmp\\ipykernel_33648\\3514538899.py\u001b[0m in \u001b[0;36m__mul__\u001b[1;34m(self, other)\u001b[0m\n\u001b[0;32m     13\u001b[0m     \u001b[1;32mreturn\u001b[0m \u001b[0mValue\u001b[0m\u001b[1;33m(\u001b[0m\u001b[0mself\u001b[0m\u001b[1;33m.\u001b[0m\u001b[0mdata\u001b[0m\u001b[1;33m-\u001b[0m\u001b[0mother\u001b[0m\u001b[1;33m.\u001b[0m\u001b[0mdata\u001b[0m\u001b[1;33m,\u001b[0m\u001b[0mchild\u001b[0m\u001b[1;33m=\u001b[0m\u001b[0mset\u001b[0m\u001b[1;33m(\u001b[0m\u001b[1;33m[\u001b[0m\u001b[0mself\u001b[0m\u001b[1;33m,\u001b[0m \u001b[0mother\u001b[0m\u001b[1;33m]\u001b[0m\u001b[1;33m)\u001b[0m\u001b[1;33m,\u001b[0m\u001b[0moperation\u001b[0m\u001b[1;33m=\u001b[0m\u001b[1;34m\"-\"\u001b[0m\u001b[1;33m,\u001b[0m\u001b[0mlabel\u001b[0m\u001b[1;33m=\u001b[0m\u001b[1;34m\"\"\u001b[0m\u001b[1;33m)\u001b[0m\u001b[1;33m\u001b[0m\u001b[1;33m\u001b[0m\u001b[0m\n\u001b[0;32m     14\u001b[0m   \u001b[1;32mdef\u001b[0m \u001b[0m__mul__\u001b[0m\u001b[1;33m(\u001b[0m\u001b[0mself\u001b[0m\u001b[1;33m,\u001b[0m \u001b[0mother\u001b[0m\u001b[1;33m)\u001b[0m\u001b[1;33m:\u001b[0m\u001b[1;33m\u001b[0m\u001b[1;33m\u001b[0m\u001b[0m\n\u001b[1;32m---> 15\u001b[1;33m     \u001b[1;32mreturn\u001b[0m \u001b[0mValue\u001b[0m\u001b[1;33m(\u001b[0m\u001b[0mself\u001b[0m\u001b[1;33m.\u001b[0m\u001b[0mdata\u001b[0m\u001b[1;33m*\u001b[0m\u001b[0mother\u001b[0m\u001b[1;33m.\u001b[0m\u001b[0mdata\u001b[0m\u001b[1;33m,\u001b[0m\u001b[0mchild\u001b[0m\u001b[1;33m=\u001b[0m\u001b[0mset\u001b[0m\u001b[1;33m(\u001b[0m\u001b[1;33m[\u001b[0m\u001b[0mself\u001b[0m\u001b[1;33m,\u001b[0m \u001b[0mother\u001b[0m\u001b[1;33m]\u001b[0m\u001b[1;33m)\u001b[0m\u001b[1;33m,\u001b[0m\u001b[0moperation\u001b[0m\u001b[1;33m=\u001b[0m\u001b[1;34m\"*\"\u001b[0m\u001b[1;33m,\u001b[0m\u001b[0mlabel\u001b[0m\u001b[1;33m=\u001b[0m\u001b[1;34m\"\"\u001b[0m\u001b[1;33m)\u001b[0m\u001b[1;33m\u001b[0m\u001b[1;33m\u001b[0m\u001b[0m\n\u001b[0m\u001b[0;32m     16\u001b[0m   \u001b[1;32mdef\u001b[0m \u001b[0m__truediv__\u001b[0m\u001b[1;33m(\u001b[0m\u001b[0mself\u001b[0m\u001b[1;33m,\u001b[0m \u001b[0mother\u001b[0m\u001b[1;33m)\u001b[0m\u001b[1;33m:\u001b[0m\u001b[1;33m\u001b[0m\u001b[1;33m\u001b[0m\u001b[0m\n\u001b[0;32m     17\u001b[0m     \u001b[1;32mif\u001b[0m \u001b[1;32mnot\u001b[0m \u001b[0misinstance\u001b[0m\u001b[1;33m(\u001b[0m\u001b[0mother\u001b[0m\u001b[1;33m,\u001b[0m\u001b[0mValue\u001b[0m\u001b[1;33m)\u001b[0m\u001b[1;33m:\u001b[0m\u001b[1;33m\u001b[0m\u001b[1;33m\u001b[0m\u001b[0m\n",
      "\u001b[1;31mAttributeError\u001b[0m: 'float' object has no attribute 'data'"
     ]
    }
   ],
   "source": [
    "# another way to compute derivative \n",
    "def f(x,y,z):\n",
    "  q=(x+y);q.label=\"q\"\n",
    "  return q*z\n",
    "h=0.001 # small change on function \n",
    "\n",
    "\n",
    "x=Value(5);x.label=\"x\"\n",
    "y=Value(5);y.label=\"y\"\n",
    "z=Value(5);z.label=\"z\"\n",
    "c=f(x,y,z);c.label=\"c\"\n",
    "\n",
    "x2=Value(5+h);x2.label=\"x2\"\n",
    "y2=Value(5);y2.label=\"y2\"\n",
    "z2=Value(5);z2.label=\"z2\"\n",
    "c2=f(x2,y2,z2);c2.label=\"c2\"\n",
    "derivative=(c2-c)*(1/h)\n",
    "print(derivative)"
   ]
  },
  {
   "cell_type": "code",
   "execution_count": 120,
   "metadata": {},
   "outputs": [],
   "source": [
    "# edit to class allow to + or * or -  with number not instance from object \n",
    "class Value():\n",
    "  def __init__(self, data,child=set(),operation=None,label=\"\"):\n",
    "    self.data=data # data in each variable\n",
    "    self.child=child # set of child varable that give this value\n",
    "    self.operation=operation# set of operation done on chile to get value\n",
    "    self.label=label\n",
    "  def __repr__(self) :\n",
    "    return f\"{self.label} is {self.data}\"\n",
    "  def __add__(self, other):\n",
    "    if not isinstance(other,Value):\n",
    "      return Value(self.data+other,child=set([self,Value(other)]),operation=\"+\",label=\"\")\n",
    "    return Value(self.data+other.data,child=set([self, other]),operation=\"+\",label=\"\")\n",
    "  def __sub__(self, other):\n",
    "    if not isinstance(other,Value):\n",
    "      return Value(self.data-other,child=set([self,Value(other)]),operation=\"-\",label=\"\")\n",
    "    return Value(self.data-other.data,child=set([self, other]),operation=\"-\",label=\"\")\n",
    "  def __mul__(self, other):\n",
    "    if not isinstance(other,Value):\n",
    "      return Value(self.data*other,child=set([self,Value(other)]),operation=\"*\",label=\"\")\n",
    "    return Value(self.data*other.data,child=set([self, other]),operation=\"*\",label=\"\")\n"
   ]
  },
  {
   "cell_type": "code",
   "execution_count": 121,
   "metadata": {},
   "outputs": [
    {
     "name": "stdout",
     "output_type": "stream",
     "text": [
      " is 5.000000000009663\n"
     ]
    }
   ],
   "source": [
    "# another way to compute derivative \n",
    "def f(x,y,z):\n",
    "  q=(x+y);q.label=\"q\"\n",
    "  return q*z\n",
    "h=0.001 # small change on function \n",
    "\n",
    "\n",
    "x=Value(5);x.label=\"x\"\n",
    "y=Value(5);y.label=\"y\"\n",
    "z=Value(5);z.label=\"z\"\n",
    "c=f(x,y,z);c.label=\"c\"\n",
    "\n",
    "x2=Value(5+h);x2.label=\"x2\"\n",
    "y2=Value(5);y2.label=\"y2\"\n",
    "z2=Value(5);z2.label=\"z2\"\n",
    "c2=f(x2,y2,z2);c2.label=\"c2\"\n",
    "derivative=(c2-c)*(1/h)\n",
    "print(derivative)"
   ]
  },
  {
   "cell_type": "code",
   "execution_count": 140,
   "metadata": {},
   "outputs": [],
   "source": [
    "# edit to class to save grade \n",
    "class Value():\n",
    "  def __init__(self, data,child=set(),operation=None,label=\"\"):\n",
    "    self.data=data # data in each variable\n",
    "    self.child=child # set of child varable that give this value\n",
    "    self.operation=operation# set of operation done on chile to get value\n",
    "    self.label=label\n",
    "    self.grade=0\n",
    "  def __repr__(self) :\n",
    "    return f\"{self.label} is {self.data}\"\n",
    "  def __add__(self, other):\n",
    "    self.grade+=1\n",
    "    other.grade+=1\n",
    "    if not isinstance(other,Value):\n",
    "      return Value(self.data+other,child=set([self,Value(other)]),operation=\"+\",label=\"\")\n",
    "    return Value(self.data+other.data,child=set([self, other]),operation=\"+\",label=\"\")\n",
    "    \n",
    "  def __sub__(self, other):\n",
    "    self.grade+=1\n",
    "    other.grade+=1\n",
    "    if not isinstance(other,Value):\n",
    "      return Value(self.data-other,child=set([self,Value(other)]),operation=\"-\",label=\"\")\n",
    "    return Value(self.data-other.data,child=set([self, other]),operation=\"-\",label=\"\")\n",
    "  def __mul__(self, other):\n",
    "    self.grade+=other.data\n",
    "    other.grade+=self.data\n",
    "    if not isinstance(other,Value):\n",
    "      return Value(self.data*other,child=set([self,Value(other)]),operation=\"*\",label=\"\")\n",
    "    return Value(self.data*other.data,child=set([self, other]),operation=\"*\",label=\"\")"
   ]
  },
  {
   "cell_type": "code",
   "execution_count": 145,
   "metadata": {},
   "outputs": [
    {
     "name": "stdout",
     "output_type": "stream",
     "text": [
      "1\n",
      "1\n",
      "5\n"
     ]
    }
   ],
   "source": [
    "x=Value(5);x.label=\"x\"\n",
    "y=Value(5);y.label=\"y\"\n",
    "z=Value(5);z.label=\"z\"\n",
    "q=x+y;q.label=\"x+y\"\n",
    "c=z*q;c.label=\"c\"\n",
    "c.grade=1\n",
    "print(c.grade)\n",
    "print(x.grade)\n",
    "x.grade=q.grade*x.grade\n",
    "print(x.grade)"
   ]
  },
  {
   "cell_type": "code",
   "execution_count": 192,
   "metadata": {},
   "outputs": [],
   "source": [
    "# edit to class to add tanh and sigmoid and eponential\n",
    "import math\n",
    "class Value():\n",
    "  def __init__(self, data,child=set(),operation=None,label=\"\",grade=0):\n",
    "    self.data=data # data in each variable\n",
    "    self.child=child # set of child varable that give this value\n",
    "    self.operation=operation# set of operation done on chile to get value\n",
    "    self.label=label\n",
    "    self.grade=grade\n",
    "  def __repr__(self) :\n",
    "    return f\"{self.label} is {self.data}\"\n",
    "  def __add__(self, other):\n",
    "    self.grade+=1 \n",
    "    other.grade+=1\n",
    "    if not isinstance(other,Value):\n",
    "      return Value(self.data+other,child=set([self,Value(other)]),operation=\"+\",label=\"\")\n",
    "    return Value(self.data+other.data,child=set([self, other]),operation=\"+\",label=\"\")\n",
    "    \n",
    "  def __sub__(self, other):\n",
    "    self.grade+=1\n",
    "    other.grade+=1\n",
    "    if not isinstance(other,Value):\n",
    "      return Value(self.data-other,child=set([self,Value(other)]),operation=\"-\",label=\"\")\n",
    "    return Value(self.data-other.data,child=set([self, other]),operation=\"-\",label=\"\")\n",
    "  def __mul__(self, other):\n",
    "   \n",
    "    if not isinstance(other,Value):\n",
    "      return Value(self.data*other,child=set([self,Value(other)]),operation=\"*\",label=\"\")\n",
    "    self.grade+=other.data\n",
    "    other.grade+=self.data\n",
    "    return Value(self.data*other.data,child=set([self, other]),operation=\"*\",label=\"\")\n",
    "  def tanh(self):\n",
    "    out=(math.exp(self.data*2)-1)*1/(math.exp(self.data*2)+1)\n",
    "    self.grade=1 - out**2\n",
    "    return Value(out,child=set([self]),operation=\"tanh\",label=\"\")\n"
   ]
  },
  {
   "cell_type": "code",
   "execution_count": 193,
   "metadata": {},
   "outputs": [
    {
     "name": "stdout",
     "output_type": "stream",
     "text": [
      "c is 0.9999092042625951\n",
      "0\n",
      "0.0001815832309438603\n"
     ]
    }
   ],
   "source": [
    "x=Value(5)\n",
    "c=x.tanh();c.label=\"c\"\n",
    "print(c)\n",
    "print(c.grade)\n",
    "print(x.grade)"
   ]
  },
  {
   "cell_type": "code",
   "execution_count": 194,
   "metadata": {},
   "outputs": [
    {
     "data": {
      "text/plain": [
       " is 0.00018140178514869376"
      ]
     },
     "execution_count": 194,
     "metadata": {},
     "output_type": "execute_result"
    }
   ],
   "source": [
    "x=Value(5)\n",
    "c=x.tanh();c.label=\"c\"\n",
    "\n",
    "h=0.001\n",
    "\n",
    "x2=Value(5+h)\n",
    "c2=x2.tanh();c.label=\"c2\"\n",
    "derivative=(c2-c)*(1/h)\n",
    "derivative"
   ]
  },
  {
   "cell_type": "markdown",
   "metadata": {},
   "source": [
    "let's bulid function to compute all grade for all node in graph "
   ]
  },
  {
   "cell_type": "code",
   "execution_count": 195,
   "metadata": {},
   "outputs": [
    {
     "name": "stdout",
     "output_type": "stream",
     "text": [
      "A grade is 4 \n",
      "B grade is 3 \n",
      "C grade is 1 \n",
      "D grade is 1 \n",
      "O grade is 3.743672039036028e-13 \n",
      "out grade is 1 \n",
      "\n"
     ]
    }
   ],
   "source": [
    "# build simple function \n",
    "A=Value(3)\n",
    "B=Value(4)\n",
    "D=Value(3)\n",
    "C=A*B\n",
    "O=C+D\n",
    "out=O.tanh()\n",
    "out.grade=1\n",
    "print(f\"A grade is {A.grade} \\n\"  \n",
    "      f\"B grade is {B.grade} \\n\"  \n",
    "      f\"C grade is {C.grade} \\n\"  \n",
    "      f\"D grade is {D.grade} \\n\"  \n",
    "      f\"O grade is {O.grade} \\n\"  \n",
    "      f\"out grade is {out.grade} \\n\"\n",
    ")"
   ]
  },
  {
   "cell_type": "code",
   "execution_count": 403,
   "metadata": {},
   "outputs": [],
   "source": [
    "# edit to class to  \n",
    "import math\n",
    "class Value():\n",
    "  def __init__(self, data,child=set(),operation=None,label=\"\"):\n",
    "    self.data=data # data in each variable\n",
    "    self.child=child # set of child varable that give this value\n",
    "    self.operation=operation# set of operation done on chile to get value\n",
    "    self.label=label\n",
    "    self.grade=0\n",
    "    self.backward_child=lambda:None #fuction to compute derivative for childs\n",
    "  def __repr__(self) :\n",
    "    return f\"{self.label} is {self.data}\"\n",
    "  def __add__(self, other):\n",
    "    if not isinstance(other,Value):\n",
    "      out= Value(self.data+other,child=set([self,Value(other)]),operation=\"+\",label=\"\")\n",
    "    else:\n",
    "      out=Value(self.data+other.data,child=set([self, other]),operation=\"+\",label=\"\")\n",
    "    def local_backward():\n",
    "      self.grade+=(1 *out.grade)\n",
    "      other.grade+=(1* out.grade)\n",
    "\n",
    "    out.backward_child=local_backward\n",
    "    return  out\n",
    " \n",
    "    \n",
    "  def __sub__(self, other):\n",
    "\n",
    "    if not isinstance(other,Value):\n",
    "      out= Value(self.data-other,child=set([self,Value(other)]),operation=\"-\",label=\"\")\n",
    "    else:\n",
    "      out=Value(self.data-other.data,child=set([self, other]),operation=\"-\",label=\"\")\n",
    "\n",
    "    def local_backward():\n",
    "      self.grade+=1 *out.grade\n",
    "      other.grade+=1* out.grade\n",
    "\n",
    "    out.backward_child=local_backward\n",
    "    return  out\n",
    "  def __mul__(self, other):\n",
    "   \n",
    "    if not isinstance(other,Value):\n",
    "      out= Value(self.data*other,child=set([self,Value(other)]),operation=\"*\",label=\"\")\n",
    "    else:\n",
    "      out=Value(self.data*other.data,child=set([self, other]),operation=\"*\",label=\"\")\n",
    "    def local_backward():\n",
    "      self.grade+=other.data *out.grade\n",
    "      other.grade+=self.data* out.grade\n",
    "\n",
    "    out.backward_child=local_backward\n",
    "    return  out\n",
    "  def tanh(self):\n",
    "    tanh=(math.exp(self.data*2)-1)*1/(math.exp(self.data*2)+1)\n",
    "    out=Value(tanh,child=set([self]),operation=\"tanh\",label=\"\")\n",
    "    def local_backward():\n",
    "      self.grade+=(1 - tanh**2)*out.grade\n",
    "    out.backward_child=local_backward\n",
    "    return out\n",
    "\n",
    "\n",
    "\n"
   ]
  },
  {
   "cell_type": "code",
   "execution_count": 404,
   "metadata": {},
   "outputs": [
    {
     "name": "stdout",
     "output_type": "stream",
     "text": [
      "A grade is 0 \n",
      "B grade is 0 \n",
      "C grade is 0 \n",
      "D grade is 0 \n",
      "O grade is 0 \n",
      "out grade is 1 \n",
      "\n"
     ]
    }
   ],
   "source": [
    "# build simple function \n",
    "A=Value(3.0);A.label='A'\n",
    "B=Value(4.0);B.label='B'\n",
    "D=Value(3.0);D.label='D'\n",
    "C=A*B;C.label='C'\n",
    "O=C+D;O.label='O'\n",
    "out=O.tanh();out.label='out'\n",
    "out.grade=1\n",
    "print(f\"A grade is {A.grade} \\n\"  \n",
    "      f\"B grade is {B.grade} \\n\"  \n",
    "      f\"C grade is {C.grade} \\n\"  \n",
    "      f\"D grade is {D.grade} \\n\"  \n",
    "      f\"O grade is {O.grade} \\n\"  \n",
    "      f\"out grade is {out.grade} \\n\"\n",
    ")"
   ]
  },
  {
   "cell_type": "code",
   "execution_count": 405,
   "metadata": {},
   "outputs": [],
   "source": [
    "visitednodes=set()\n",
    "top=[]\n",
    "def compute_grade(leefnode):\n",
    "  for child in leefnode.child:\n",
    "    if child not in visitednodes:\n",
    "      visitednodes.add(child)\n",
    "      compute_grade(child)\n",
    "      top.append(child)    \n",
    "compute_grade(out)   \n",
    "top.append(out)\n",
    "l=top[::-1]\n",
    "for i in l :\n",
    "  i.backward_child()\n",
    "\n"
   ]
  },
  {
   "cell_type": "code",
   "execution_count": 406,
   "metadata": {},
   "outputs": [
    {
     "name": "stdout",
     "output_type": "stream",
     "text": [
      "A grade is 1.4974688156144111e-12 \n",
      "B grade is 1.1231016117108084e-12 \n",
      "C grade is 3.743672039036028e-13 \n",
      "D grade is 3.743672039036028e-13 \n",
      "O grade is 3.743672039036028e-13 \n",
      "out grade is 1 \n",
      "\n"
     ]
    }
   ],
   "source": [
    "print(f\"A grade is {A.grade} \\n\"  \n",
    "      f\"B grade is {B.grade} \\n\"  \n",
    "      f\"C grade is {C.grade} \\n\"  \n",
    "      f\"D grade is {D.grade} \\n\"  \n",
    "      f\"O grade is {O.grade} \\n\"  \n",
    "      f\"out grade is {out.grade} \\n\"\n",
    ")"
   ]
  },
  {
   "cell_type": "code",
   "execution_count": 407,
   "metadata": {},
   "outputs": [
    {
     "name": "stdout",
     "output_type": "stream",
     "text": [
      "A grade is 1.4974688156144111e-12 \n",
      "B grade is 1.1231016117108084e-12 \n",
      "D grade is 3.743672039036028e-13 \n",
      "\n"
     ]
    }
   ],
   "source": [
    "import torch\n",
    "\n",
    "# Create tensors for values A, B, C, D\n",
    "A = torch.Tensor([3.0]).double();A.requires_grad=True\n",
    "B = torch.Tensor([4.0]).double();B.requires_grad=True\n",
    "D = torch.Tensor([3.0]).double();D.requires_grad=True\n",
    "\n",
    "# Perform operations to get C and O\n",
    "C = A * B\n",
    "O = C + D\n",
    "\n",
    "# Apply tanh() function to O to get out\n",
    "out = torch.tanh(O)\n",
    "\n",
    "# # Set the gradient of the output\n",
    "out.backward()\n",
    "\n",
    "# Print the gradients\n",
    "print(f\"A grade is {A.grad.item()} \\n\"  \n",
    "      f\"B grade is {B.grad.item()} \\n\"  \n",
    "      f\"D grade is {D.grad.item()} \\n\"  \n",
    ")\n"
   ]
  },
  {
   "cell_type": "code",
   "execution_count": 295,
   "metadata": {},
   "outputs": [
    {
     "name": "stdout",
     "output_type": "stream",
     "text": [
      "3.743672039036028e-13\n"
     ]
    }
   ],
   "source": [
    "# edit to class to  backword\n",
    "import math\n",
    "class Value():\n",
    "  def __init__(self, data,child=set(),operation=None,label=\"\"):\n",
    "    self.data=data # data in each variable\n",
    "    self.child=child # set of child varable that give this value\n",
    "    self.operation=operation# set of operation done on chile to get value\n",
    "    self.label=label\n",
    "    self.grade=0\n",
    "    self.backward_child=lambda:None #fuction to compute derivative for childs\n",
    "  def __repr__(self) :\n",
    "    return f\"{self.label} is {self.data}\"\n",
    "  def __add__(self, other):\n",
    "    if not isinstance(other,Value):\n",
    "      out= Value(self.data+other,child=set([self,Value(other)]),operation=\"+\",label=\"\")\n",
    "    else:\n",
    "      out=Value(self.data+other.data,child=set([self, other]),operation=\"+\",label=\"\")\n",
    "    def local_backward():\n",
    "      self.grade+=(1 *out.grade)\n",
    "      other.grade+=(1* out.grade)\n",
    "\n",
    "    out.backward_child=local_backward\n",
    "    return  out\n",
    " \n",
    "    \n",
    "  def __sub__(self, other):\n",
    "\n",
    "    if not isinstance(other,Value):\n",
    "      out= Value(self.data-other,child=set([self,Value(other)]),operation=\"-\",label=\"\")\n",
    "    else:\n",
    "      out=Value(self.data-other.data,child=set([self, other]),operation=\"-\",label=\"\")\n",
    "\n",
    "    def local_backward():\n",
    "      self.grade+=1 *out.grade\n",
    "      other.grade+=1* out.grade\n",
    "\n",
    "    out.backward_child=local_backward\n",
    "    return  out\n",
    "  def __mul__(self, other):\n",
    "   \n",
    "    if not isinstance(other,Value):\n",
    "      out= Value(self.data*other,child=set([self,Value(other)]),operation=\"*\",label=\"\")\n",
    "    else:\n",
    "      out=Value(self.data*other.data,child=set([self, other]),operation=\"*\",label=\"\")\n",
    "    def local_backward():\n",
    "      self.grade+=other.data *out.grade\n",
    "      other.grade+=self.data* out.grade\n",
    "\n",
    "    out.backward_child=local_backward\n",
    "    return  out\n",
    "  def tanh(self):\n",
    "    tanh=(math.exp(self.data*2)-1)*1/(math.exp(self.data*2)+1)\n",
    "    out=Value(tanh,child=set([self]),operation=\"tanh\",label=\"\")\n",
    "    def local_backward():\n",
    "      self.grade+=(1 - tanh**2)*out.grade\n",
    "    out.backward_child=local_backward\n",
    "    return out\n",
    "  def backward(self):\n",
    "    visitednodes=set()\n",
    "    top=[]\n",
    "    def compute_grade(leefnode):\n",
    "      for child in leefnode.child:\n",
    "        if child not in visitednodes:\n",
    "          visitednodes.add(child)\n",
    "          compute_grade(child)\n",
    "          top.append(child)    \n",
    "    compute_grade(self)   \n",
    "    top.append(self)\n",
    "    l=top[::-1]\n",
    "    for i in l :\n",
    "      i.backward_child()\n",
    "\n"
   ]
  },
  {
   "cell_type": "code",
   "execution_count": 652,
   "metadata": {},
   "outputs": [],
   "source": [
    "# edit to class to  pow ,rmul,epo,relu,sigmoid\n",
    "import math\n",
    "class Value():\n",
    "  def __init__(self, data,child=set(),operation=None,label=\"\"):\n",
    "    self.data=data # data in each variable\n",
    "    self.child=child # set of child varable that give this value\n",
    "    self.operation=operation# set of operation done on chile to get value\n",
    "    self.label=label\n",
    "    self.grade=0\n",
    "    self.backward_child=lambda:None #fuction to compute derivative for childs\n",
    "  def __repr__(self) :\n",
    "    return f\"{self.label} is {self.data}\"\n",
    "  def __add__(self, other):\n",
    "    if not isinstance(other,Value):\n",
    "      other=Value(other)\n",
    "    out=Value(self.data+other.data,child=set([self, other]),operation=\"+\",label=\"\")\n",
    "    def local_backward():\n",
    "      self.grade+=(1 *out.grade)\n",
    "      other.grade+=(1* out.grade)\n",
    "\n",
    "    out.backward_child=local_backward\n",
    "    return  out\n",
    " \n",
    "    \n",
    "  def __sub__(self, other):\n",
    "\n",
    "    if not isinstance(other,Value):\n",
    "      other=Value(other) \n",
    "    out=Value(self.data-other.data,child=set([self, other]),operation=\"-\",label=\"\")\n",
    "\n",
    "    def local_backward():\n",
    "      self.grade+=(1 *out.grade)\n",
    "      other.grade+=(-1* out.grade)\n",
    "\n",
    "    out.backward_child=local_backward\n",
    "    return  out\n",
    "  def __mul__(self, other):\n",
    "   \n",
    "    if not isinstance(other,Value):\n",
    "      other=Value(other)\n",
    "    out=Value(self.data*other.data,child=set([self, other]),operation=\"*\",label=\"\")\n",
    "    def local_backward():\n",
    "      self.grade+=other.data *out.grade\n",
    "      other.grade+=self.data* out.grade\n",
    "\n",
    "    out.backward_child=local_backward\n",
    "    return  out\n",
    "  def __rmul__(self, other):# other *  self \n",
    "    return self * other\n",
    "\n",
    "\n",
    "  def tanh(self):\n",
    "    tanh=(math.exp(self.data*2)-1)*1/(math.exp(self.data*2)+1)\n",
    "    out=Value(tanh,child=set([self]),operation=\"tanh\",label=\"\")\n",
    "    def local_backward():\n",
    "      self.grade+=(1 - tanh**2)*out.grade\n",
    "    out.backward_child=local_backward\n",
    "    return out\n",
    "  \n",
    "  def backward(self):\n",
    "    visitednodes=set()\n",
    "    top=[]\n",
    "    def compute_grade(leefnode):\n",
    "      for child in leefnode.child:\n",
    "        if child not in visitednodes:\n",
    "          visitednodes.add(child)\n",
    "          compute_grade(child)\n",
    "          top.append(child)    \n",
    "    compute_grade(self)   \n",
    "    top.append(self)\n",
    "    l=top[::-1]\n",
    "    self.grade=1\n",
    "    for i in l :\n",
    "      i.backward_child()\n",
    "  \n",
    "  def __pow__(self,n):\n",
    "    assert isinstance(n,(int,float)),\"only support int and float\"\n",
    "    out= Value(self.data**n,child=set([self]),operation=\"**\",label=\"\")\n",
    "    def local_backward():\n",
    "      self.grade+=(n*(self.data**(n-1)))*out.grade\n",
    "    out.backward_child=local_backward\n",
    "    return out\n",
    "\n",
    "  def __radd__(self, other): # other + self\n",
    "      return self + other\n",
    "\n",
    "  def __rsub__(self, other): # other - self\n",
    "      return other - self\n",
    "\n",
    "  def __rmul__(self, other): # other * self\n",
    "      return self * other\n",
    "\n",
    "  def __truediv__(self, other): # self / other\n",
    "      return self * other**-1\n",
    "\n",
    "  def __rtruediv__(self, other): # other / self\n",
    "      return other * self**-1\n",
    "\n",
    "\n",
    "    \n",
    "\n"
   ]
  },
  {
   "cell_type": "code",
   "execution_count": 657,
   "metadata": {},
   "outputs": [],
   "source": [
    "#let's bulid simple network to check \n",
    "import numpy as np\n",
    "class Neuron2():\n",
    "  def __init__(self, num_neuron):\n",
    "    self.w=[ Value(np.random.randn())  for n in range(num_neuron) ]\n",
    "    self.b=Value(np.random.randn()) \n",
    "\n",
    "  def parametars(self):\n",
    "     return self.w+[self.b]\n",
    "  def __call__(self, x):\n",
    "   act = sum((wi*xi for wi, xi in zip(self.w, x)), self.b)\n",
    "   out = act.tanh()\n",
    "   return out\n",
    "  \n",
    "class layers():\n",
    "   def __init__(self,in_,out):\n",
    "      self.neuorons=[Neuron2(in_) for _ in range(out)]\n",
    "   def __call__(self,X):\n",
    "      output=[neuoron(X) for neuoron in  self.neuorons]\n",
    "      return output\n",
    "      \n",
    "   def parametars(self):\n",
    "     return [n for neuoron in  self.neuorons for n in  neuoron.parametars()]\n",
    "   \n",
    "    \n",
    "\n",
    "class MLP():\n",
    "   def __init__(self , input_layer,hidden_layers:list):\n",
    "      all_layers=[input_layer]+hidden_layers\n",
    "      self.layers=[layers(all_layers[layer],all_layers[layer+1]) for layer in range(len(all_layers)-1) ]\n",
    "   def __call__(self,x):\n",
    "      for layer in self.layers:\n",
    "         x=layer(x)\n",
    "      return x[0]\n",
    "   def parametars(self):\n",
    "     return [n for layer in self.layers for n in layer.parametars()] \n",
    "   \n",
    "   \n",
    "    \n",
    "     \n"
   ]
  },
  {
   "cell_type": "code",
   "execution_count": 658,
   "metadata": {},
   "outputs": [
    {
     "data": {
      "text/plain": [
       " is -0.8490947921079828"
      ]
     },
     "execution_count": 658,
     "metadata": {},
     "output_type": "execute_result"
    }
   ],
   "source": [
    "x = [2.0, 3.0, -1.0]\n",
    "n = MLP(3, [4, 4, 1])\n",
    "n(x)"
   ]
  },
  {
   "cell_type": "code",
   "execution_count": 659,
   "metadata": {},
   "outputs": [],
   "source": [
    "xs = [\n",
    "  [2.0, 3.0, -1.0],\n",
    "  [3.0, -1.0, 0.5],\n",
    "  [0.5, 1.0, 1.0],\n",
    "  [1.0, 1.0, -1.0],\n",
    "]\n",
    "ys = [1.0, -1.0, -1.0, 1.0] # desired targets\n",
    "\n",
    "  "
   ]
  },
  {
   "cell_type": "code",
   "execution_count": 660,
   "metadata": {},
   "outputs": [
    {
     "name": "stdout",
     "output_type": "stream",
     "text": [
      "0 6.550331587048751\n",
      "1 0.4576735046296434\n",
      "2 0.08288263046958441\n",
      "3 0.02088028757727725\n",
      "4 0.013122321700782208\n",
      "5 0.009666017384115612\n",
      "6 0.0076998810638779945\n",
      "7 0.00642948188738318\n",
      "8 0.005540180518950362\n",
      "9 0.004882124060280849\n",
      "10 0.004374856765457699\n",
      "11 0.00397134157225268\n",
      "12 0.003642259188130454\n",
      "13 0.0033683940866079845\n",
      "14 0.0031366328514429087\n",
      "15 0.0029377227622131947\n",
      "16 0.0027649495641833342\n",
      "17 0.002613323143723244\n",
      "18 0.00247905740407771\n",
      "19 0.0023592275092180143\n"
     ]
    }
   ],
   "source": [
    "for k in range(20):\n",
    "  \n",
    "  # forward pass\n",
    "  ypred = [n(x) for x in xs]\n",
    "  loss = sum((yout - ygt)**2 for ygt, yout in zip(ys, ypred))\n",
    "  \n",
    "  # backward pass\n",
    "  for p in n.parametars():\n",
    "    p.grade = 0.0\n",
    "  loss.backward()\n",
    "  \n",
    "  # update\n",
    "  for p in n.parametars():\n",
    "    p.data += -0.1 * p.grade\n",
    "  \n",
    "  print(k, loss.data)"
   ]
  },
  {
   "cell_type": "code",
   "execution_count": null,
   "metadata": {},
   "outputs": [],
   "source": []
  },
  {
   "cell_type": "code",
   "execution_count": null,
   "metadata": {},
   "outputs": [],
   "source": []
  }
 ],
 "metadata": {
  "kernelspec": {
   "display_name": "base",
   "language": "python",
   "name": "python3"
  },
  "language_info": {
   "codemirror_mode": {
    "name": "ipython",
    "version": 3
   },
   "file_extension": ".py",
   "mimetype": "text/x-python",
   "name": "python",
   "nbconvert_exporter": "python",
   "pygments_lexer": "ipython3",
   "version": "3.9.18"
  }
 },
 "nbformat": 4,
 "nbformat_minor": 2
}
